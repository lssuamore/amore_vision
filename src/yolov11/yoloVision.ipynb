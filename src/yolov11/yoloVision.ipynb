{
 "cells": [
  {
   "cell_type": "markdown",
   "id": "91829dae",
   "metadata": {},
   "source": [
    "# USING YOLO FOR BUOY DETECTION"
   ]
  },
  {
   "cell_type": "code",
   "execution_count": 1,
   "id": "a17a6a1a",
   "metadata": {},
   "outputs": [],
   "source": [
    "from ultralytics import YOLO\n",
    "import cv2 as cv\n",
    "\n",
    "model = YOLO(\"D:/A. TEAM NODE/runs/detect/train2/weights/best.pt\")"
   ]
  },
  {
   "cell_type": "code",
   "execution_count": 4,
   "id": "76d7d861",
   "metadata": {},
   "outputs": [],
   "source": [
    "# FUNCTIONS\n",
    "\n",
    "def getColors(cls_num):\n",
    "    base_colors = [(0, 255, 0), (0, 0, 255), (255, 0, 0)]\n",
    "    color_index = cls_num % len(base_colors)\n",
    "    increments = [(1,-2,1),(-2,1,-1),(1,-1,2)]\n",
    "    color = [base_colors[color_index][i] + increments[color_index][i] * (cls_num // len(base_colors)) % 256 for i in range(3)]\n",
    "    return tuple(color)"
   ]
  },
  {
   "cell_type": "code",
   "execution_count": null,
   "id": "2910d478",
   "metadata": {},
   "outputs": [],
   "source": [
    "video = cv.VideoCapture(0)\n",
    "while True:\n",
    "    ret, frame = video.read()\n",
    "    if not ret:\n",
    "        break\n",
    "    results = model.track(frame, stream=True)\n",
    "    for result in results:\n",
    "        classes_names = result.names\n",
    "\n",
    "        for box in result.boxes:\n",
    "            if box.conf[0] > 0.4:\n",
    "                [x1, y1, x2, y2] = box.xyxy[0]\n",
    "                x1,y1,x2,y2 = int(x1),int(y1),int(x2),int(y2)\n",
    "                cls = int(box.cls[0])\n",
    "                class_name = classes_names[cls]\n",
    "                color = getColors(cls)\n",
    "                cv.rectangle(frame, (x1,y1), (x2,y2), color, 2)\n",
    "                cv.putText(frame,\n",
    "                           f'{classes_names[int(box.cls[0])]}{box.conf[0]:.2f}',\n",
    "                           (x1,y1), cv.FONT_HERSHEY_SIMPLEX, 1, color, 2)\n",
    "    cv.imshow('frame', frame)\n",
    "    if cv.waitKey(1) & 0xFF == ord('q'):\n",
    "        break\n",
    "\n",
    "video.release()\n",
    "cv.destroyAllWindows()"
   ]
  }
 ],
 "metadata": {
  "kernelspec": {
   "display_name": ".env",
   "language": "python",
   "name": "python3"
  },
  "language_info": {
   "codemirror_mode": {
    "name": "ipython",
    "version": 3
   },
   "file_extension": ".py",
   "mimetype": "text/x-python",
   "name": "python",
   "nbconvert_exporter": "python",
   "pygments_lexer": "ipython3",
   "version": "3.12.10"
  }
 },
 "nbformat": 4,
 "nbformat_minor": 5
}

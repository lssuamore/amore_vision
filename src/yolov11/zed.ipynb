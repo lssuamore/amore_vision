{
 "cells": [
  {
   "cell_type": "markdown",
   "id": "9cabfe52",
   "metadata": {},
   "source": [
    "# trying to combine yolo and zed for distance measurement of detected objects"
   ]
  },
  {
   "cell_type": "code",
   "execution_count": 7,
   "id": "e31fbf1e",
   "metadata": {},
   "outputs": [],
   "source": [
    "import cv2 as cv\n",
    "import pyzed.sl as sl\n",
    "import math"
   ]
  },
  {
   "cell_type": "code",
   "execution_count": 5,
   "id": "3e60ab80",
   "metadata": {},
   "outputs": [],
   "source": [
    "zed = sl.Camera()\n",
    "\n",
    "init_params = sl.InitParameters()\n",
    "init_params.depth_mode = sl.DEPTH_MODE.NEURAL\n",
    "init_params.coordinate_units = sl.UNIT.METER"
   ]
  },
  {
   "cell_type": "code",
   "execution_count": 6,
   "id": "3840393a",
   "metadata": {},
   "outputs": [
    {
     "data": {
      "text/plain": [
       "<function imshow>"
      ]
     },
     "execution_count": 6,
     "metadata": {},
     "output_type": "execute_result"
    }
   ],
   "source": [
    "err = zed.open(init_params)\n",
    "if (err != sl.ERROR_CODE.SUCCESS):\n",
    "    exit(-1)\n",
    "cv.imshow"
   ]
  },
  {
   "cell_type": "code",
   "execution_count": null,
   "id": "36af61bc",
   "metadata": {},
   "outputs": [],
   "source": [
    "i = 0\n",
    "img = sl.Mat()\n",
    "depth = sl.Mat()\n",
    "point_cloud = sl.Mat()\n",
    "while (i < 100):\n",
    "    if (zed.grab() == sl.ERROR_CODE.SUCCESS):\n",
    "        zed.retrieve_image(Image,sl.VIEW.LEFT)\n",
    "        zed.retrieve_measure(depth, sl.MEASURE.DEPTH)\n",
    "        zed.retrieve_measure(point_cloud, sl.MEASURE.XYZ)\n",
    "        i+=1"
   ]
  },
  {
   "cell_type": "code",
   "execution_count": null,
   "id": "058de347",
   "metadata": {},
   "outputs": [],
   "source": [
    "x = img.get_width() // 2\n",
    "y = img.get_width() // 2\n",
    "point_cloud_value = point_cloud.get_value(x,y)\n",
    "\n",
    "distance = math.sqrt(point_cloud_value[0]*point_cloud_value[0] + point_cloud_value[1]*point_cloud_value[1] + point_cloud_value[2]*point_cloud_value[2])\n",
    "print(f\"Distance to Camera at {{{x};{y}}}: {distance}\")"
   ]
  },
  {
   "cell_type": "code",
   "execution_count": 7,
   "id": "adca8d17",
   "metadata": {},
   "outputs": [
    {
     "name": "stdout",
     "output_type": "stream",
     "text": [
      "Hello! This is my serial number: 35802132\n"
     ]
    }
   ],
   "source": [
    "zed_serial = zed.get_camera_information().serial_number\n",
    "print(f'Hello! This is my serial number: {zed_serial}')"
   ]
  }
 ],
 "metadata": {
  "kernelspec": {
   "display_name": "Python 3",
   "language": "python",
   "name": "python3"
  },
  "language_info": {
   "codemirror_mode": {
    "name": "ipython",
    "version": 3
   },
   "file_extension": ".py",
   "mimetype": "text/x-python",
   "name": "python",
   "nbconvert_exporter": "python",
   "pygments_lexer": "ipython3",
   "version": "3.12.6"
  }
 },
 "nbformat": 4,
 "nbformat_minor": 5
}
